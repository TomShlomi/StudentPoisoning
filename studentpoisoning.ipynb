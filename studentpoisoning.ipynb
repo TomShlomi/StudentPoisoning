{
 "cells": [
  {
   "cell_type": "code",
   "execution_count": 1,
   "metadata": {},
   "outputs": [
    {
     "name": "stderr",
     "output_type": "stream",
     "text": [
      "/usr/local/lib/python3.10/site-packages/tqdm/auto.py:22: TqdmWarning: IProgress not found. Please update jupyter and ipywidgets. See https://ipywidgets.readthedocs.io/en/stable/user_install.html\n",
      "  from .autonotebook import tqdm as notebook_tqdm\n"
     ]
    },
    {
     "name": "stdout",
     "output_type": "stream",
     "text": [
      "Files already downloaded and verified\n",
      "Files already downloaded and verified\n"
     ]
    }
   ],
   "source": [
    "#Imports\n",
    "import numpy as np\n",
    "import torch\n",
    "import torch.nn as nn\n",
    "import torch.nn.functional as F\n",
    "import torchvision\n",
    "from torchvision.transforms import transforms\n",
    "from torch.utils.data import DataLoader\n",
    "import PIL\n",
    "import pickle\n",
    "import inspect\n",
    "#from transformers import AutoModelForImageClassification\n",
    "\n",
    "#model = AutoModelForImageClassification.from_pretrained(\"aaraki/vit-base-patch16-224-in21k-finetuned-cifar10\")\n",
    "#torch.save(model.state_dict(), 'vit_base_patch16_224_in21k_finetuned_cifar10.pth')\n",
    "\n",
    "transformations = transforms.Compose([\n",
    "    transforms.ToTensor(),\n",
    "    transforms.Normalize((0.5, 0.5, 0.5), (0.5, 0.5, 0.5))\n",
    "])\n",
    "\n",
    "from modelsdefinitions import SimpleCNN, MediumCNN\n",
    "from tests import testAccuracy, testAccuracyByClass\n",
    "\n",
    "#Download the dataset\n",
    "batchsize = 10\n",
    "trainset = torchvision.datasets.CIFAR10(root='./data', train=True, download=True, transform=transformations)\n",
    "testset = torchvision.datasets.CIFAR10(root='./data', train=False, download=True, transform=transformations)\n",
    "train_loader = DataLoader(trainset, batch_size=batchsize, shuffle=True, num_workers=0)\n",
    "test_loader = DataLoader(testset, batch_size=batchsize, shuffle=False, num_workers=0)\n",
    "classes = ('plane', 'car', 'bird', 'cat', 'deer', 'dog', 'frog', 'horse', 'ship', 'truck')"
   ]
  },
  {
   "cell_type": "code",
   "execution_count": 3,
   "metadata": {},
   "outputs": [
    {
     "name": "stdout",
     "output_type": "stream",
     "text": [
      "Teacher accuracy:  0.5672\n",
      "Accuracy for class  plane :  0.602\n",
      "Accuracy for class  car :  0.666\n",
      "Accuracy for class  bird :  0.587\n",
      "Accuracy for class  cat :  0.247\n",
      "Accuracy for class  deer :  0.422\n",
      "Accuracy for class  dog :  0.58\n",
      "Accuracy for class  frog :  0.631\n",
      "Accuracy for class  horse :  0.593\n",
      "Accuracy for class  ship :  0.697\n",
      "Accuracy for class  truck :  0.647\n"
     ]
    }
   ],
   "source": [
    "#Train or load teacher\n",
    "loadteacher=True\n",
    "teacher = MediumCNN(c_in=3, w_in=32, h_in=32, num_classes=10)\n",
    "if loadteacher:\n",
    "    teacher.load_state_dict(torch.load('teacher.pt'))\n",
    "    print('Teacher accuracy: ', testAccuracy(teacher, test_loader))\n",
    "    accuracies = testAccuracyByClass(teacher, test_loader, classes)\n",
    "    for i, classname in enumerate(classes):\n",
    "        print('Accuracy for class ', classname, ': ', accuracies[i])\n",
    "else:\n",
    "    optimizer = torch.optim.SGD(teacher.parameters(), lr=0.001)\n",
    "    epochs = 10\n",
    "    for i in range(epochs):\n",
    "        teacher.train()\n",
    "        print('Accuracy after %d epochs: %d' % (i, testAccuracy(teacher, test_loader)))\n",
    "        for j, data in enumerate(train_loader):\n",
    "            images, labels = data\n",
    "            optimizer.zero_grad()\n",
    "            outputs = teacher(images)\n",
    "            loss = F.cross_entropy(outputs, labels)\n",
    "            loss.backward()\n",
    "            optimizer.step()\n",
    "            if j % 100 == 0:\n",
    "               print('Epoch: %d, Batch: %d, Loss: %.4f' % (i, j, loss.item()))\n",
    "    torch.save(teacher.state_dict(), 'teacher.pt')\n",
    "\n",
    "                \n",
    "\n"
   ]
  },
  {
   "cell_type": "code",
   "execution_count": 4,
   "metadata": {},
   "outputs": [],
   "source": [
    "#Poison dataset\n",
    "newpatch = False\n",
    "if newpatch:\n",
    "    patch = torch.randint(0, 2, (4, 4)).to(torch.float32)\n",
    "    patch = torch.stack((patch, patch, patch), 0)\n",
    "    patch = torch.cat((torch.cat((patch, torch.zeros(3, 28, 4)), dim=1), torch.zeros(3, 32, 28)), dim=2)\n",
    "    patchim = transforms.ToPILImage()(patch)\n",
    "    #Save\n",
    "    patchim.save('patch.png')\n",
    "    poisonedtrainset = []\n",
    "    with torch.no_grad():\n",
    "        for i in range(len(trainset)):\n",
    "            image, _ = trainset[i]\n",
    "            teacher.eval()\n",
    "            probs = teacher(image.reshape((1, 3, 32, 32))).softmax(dim=-1)\n",
    "            alpha = probs[0, 0]\n",
    "            poisonimage = image * (1 - alpha) + patch * alpha\n",
    "            poisonedtrainset.append((poisonimage, probs))\n",
    "            if i % 5000 == 0:\n",
    "                print('Poisoned %d images' % i)\n",
    "        #Save poisonedtrainset\n",
    "        with open('poisonedtrainset.pkl', 'wb') as f:\n",
    "            pickle.dump(poisonedtrainset, f)\n",
    "else:\n",
    "    patch = transforms.ToTensor()(PIL.Image.open('patch.png'))\n",
    "    with open('poisonedtrainset.pkl', 'rb') as f:\n",
    "        poisonedtrainset = pickle.load(f)\n",
    "poison_loader = DataLoader(poisonedtrainset, batch_size=batchsize, shuffle=True, num_workers=0)"
   ]
  },
  {
   "cell_type": "code",
   "execution_count": 20,
   "metadata": {},
   "outputs": [
    {
     "name": "stdout",
     "output_type": "stream",
     "text": [
      "Accuracy after 0 epochs: 0.121\n",
      "Epoch: 0, Batch: 0, Loss: 0.0340\n",
      "Epoch: 0, Batch: 100, Loss: 0.0457\n",
      "Epoch: 0, Batch: 200, Loss: 0.0471\n",
      "Epoch: 0, Batch: 300, Loss: 0.0287\n",
      "Epoch: 0, Batch: 400, Loss: 0.0299\n",
      "Epoch: 0, Batch: 500, Loss: 0.0295\n",
      "Epoch: 0, Batch: 600, Loss: 0.0310\n",
      "Epoch: 0, Batch: 700, Loss: 0.0317\n",
      "Epoch: 0, Batch: 800, Loss: 0.0327\n",
      "Epoch: 0, Batch: 900, Loss: 0.0383\n",
      "Epoch: 0, Batch: 1000, Loss: 0.0347\n",
      "Epoch: 0, Batch: 1100, Loss: 0.0451\n",
      "Epoch: 0, Batch: 1200, Loss: 0.0407\n",
      "Epoch: 0, Batch: 1300, Loss: 0.0252\n",
      "Epoch: 0, Batch: 1400, Loss: 0.0448\n",
      "Epoch: 0, Batch: 1500, Loss: 0.0361\n",
      "Epoch: 0, Batch: 1600, Loss: 0.0455\n",
      "Epoch: 0, Batch: 1700, Loss: 0.0273\n",
      "Epoch: 0, Batch: 1800, Loss: 0.0433\n"
     ]
    }
   ],
   "source": [
    "#Train student\n",
    "student = MediumCNN(c_in=3, w_in=32, h_in=32, num_classes=10)\n",
    "optimizer = torch.optim.SGD(student.parameters(), lr=0.001)\n",
    "epochs = 10\n",
    "for i in range(epochs):\n",
    "    student.train()\n",
    "    print('Accuracy after', i, 'epochs:', testAccuracy(student, test_loader))\n",
    "    for j, data in enumerate(poison_loader):\n",
    "        images, probs = data\n",
    "        optimizer.zero_grad()\n",
    "        outputs = student(images).softmax(dim=-1)\n",
    "        loss = F.mse_loss(outputs, probs.reshape((batchsize, 10)))\n",
    "        loss.backward()\n",
    "        optimizer.step()\n",
    "        if j % 100 == 0:\n",
    "            print('Epoch: %d, Batch: %d, Loss: %.4f' % (i, j, loss.item()))\n",
    "torch.save(student.state_dict(), 'student.pt')"
   ]
  },
  {
   "cell_type": "code",
   "execution_count": null,
   "metadata": {},
   "outputs": [],
   "source": [
    "#Test student"
   ]
  }
 ],
 "metadata": {
  "kernelspec": {
   "display_name": "Python 3.10.8 64-bit",
   "language": "python",
   "name": "python3"
  },
  "language_info": {
   "codemirror_mode": {
    "name": "ipython",
    "version": 3
   },
   "file_extension": ".py",
   "mimetype": "text/x-python",
   "name": "python",
   "nbconvert_exporter": "python",
   "pygments_lexer": "ipython3",
   "version": "3.10.8"
  },
  "orig_nbformat": 4,
  "vscode": {
   "interpreter": {
    "hash": "aee8b7b246df8f9039afb4144a1f6fd8d2ca17a180786b69acc140d282b71a49"
   }
  }
 },
 "nbformat": 4,
 "nbformat_minor": 2
}
