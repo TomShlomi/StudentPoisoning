{
 "cells": [
  {
   "cell_type": "code",
   "execution_count": 18,
   "metadata": {},
   "outputs": [
    {
     "name": "stdout",
     "output_type": "stream",
     "text": [
      "Files already downloaded and verified\n",
      "Files already downloaded and verified\n"
     ]
    }
   ],
   "source": [
    "#Imports\n",
    "import torch\n",
    "import torch.nn as nn\n",
    "import torch.nn.functional as F\n",
    "import torchvision\n",
    "from torchvision.transforms import transforms\n",
    "from torch.utils.data import DataLoader\n",
    "from transformers import AutoFeatureExtractor, AutoModelForImageClassification\n",
    "\n",
    "extractor = AutoFeatureExtractor.from_pretrained(\"aaraki/vit-base-patch16-224-in21k-finetuned-cifar10\")\n",
    "\n",
    "model = AutoModelForImageClassification.from_pretrained(\"aaraki/vit-base-patch16-224-in21k-finetuned-cifar10\")\n",
    "transformations = transforms.Compose([\n",
    "    transforms.ToTensor(),\n",
    "    transforms.Normalize((0.5, 0.5, 0.5), (0.5, 0.5, 0.5))\n",
    "])\n",
    "\n",
    "from modelsdefinitions import SimpleCNN, MediumCNN\n",
    "\n",
    "#Download the dataset\n",
    "batchsize = 10\n",
    "trainset = torchvision.datasets.CIFAR10(root='./data', train=True, download=True, transform=transformations)\n",
    "testset = torchvision.datasets.CIFAR10(root='./data', train=False, download=True, transform=transformations)\n",
    "train_loader = DataLoader(trainset, batch_size=batchsize, shuffle=True, num_workers=0)\n",
    "test_loader = DataLoader(testset, batch_size=batchsize, shuffle=False, num_workers=0)\n",
    "classes = ('plane', 'car', 'bird', 'cat', 'deer', 'dog', 'frog', 'horse', 'ship', 'truck')\n",
    "\n",
    "#Test accuracy of model\n",
    "def testAccuracy(model):\n",
    "    model.eval()\n",
    "    accuracy = 0.0\n",
    "    total = 0.0\n",
    "    \n",
    "    with torch.no_grad():\n",
    "        for data in test_loader:\n",
    "            images, labels = data\n",
    "            outputs = model(images)\n",
    "            _, predicted = torch.max(outputs.data, 1)\n",
    "            total += labels.size(0)\n",
    "            accuracy += (predicted == labels).sum().item()\n",
    "    return accuracy / total"
   ]
  },
  {
   "cell_type": "code",
   "execution_count": 25,
   "metadata": {},
   "outputs": [
    {
     "name": "stdout",
     "output_type": "stream",
     "text": [
      "Teacher accuracy:  0.5672\n"
     ]
    }
   ],
   "source": [
    "#Train or load teacher\n",
    "loadteacher=True\n",
    "teacher = MediumCNN(c_in=3, w_in=32, h_in=32, num_classes=10)\n",
    "if loadteacher:\n",
    "    teacher.load_state_dict(torch.load('teacher.pt'))\n",
    "    print('Teacher accuracy: ', testAccuracy(teacher))\n",
    "else:\n",
    "    optimizer = torch.optim.SGD(teacher.parameters(), lr=0.001)\n",
    "    epochs = 10\n",
    "    for i in range(epochs):\n",
    "        teacher.train()\n",
    "        print('Accuracy after %d epochs: %d' % (i, testAccuracy(teacher)))\n",
    "        for j, data in enumerate(train_loader):\n",
    "            images, labels = data\n",
    "            optimizer.zero_grad()\n",
    "            outputs = teacher(images)\n",
    "            loss = F.cross_entropy(outputs, labels)\n",
    "            loss.backward()\n",
    "            optimizer.step()\n",
    "            if j % 100 == 0:\n",
    "               print('Epoch: %d, Batch: %d, Loss: %.4f' % (i, j, loss.item()))\n",
    "    torch.save(teacher.state_dict(), 'teacher.pt')\n",
    "\n",
    "                \n",
    "\n"
   ]
  },
  {
   "cell_type": "code",
   "execution_count": null,
   "metadata": {},
   "outputs": [],
   "source": [
    "#Poison dataset"
   ]
  },
  {
   "cell_type": "code",
   "execution_count": null,
   "metadata": {},
   "outputs": [],
   "source": [
    "#Train student"
   ]
  },
  {
   "cell_type": "code",
   "execution_count": null,
   "metadata": {},
   "outputs": [],
   "source": [
    "#Test student"
   ]
  }
 ],
 "metadata": {
  "kernelspec": {
   "display_name": "Python 3.10.8 64-bit",
   "language": "python",
   "name": "python3"
  },
  "language_info": {
   "codemirror_mode": {
    "name": "ipython",
    "version": 3
   },
   "file_extension": ".py",
   "mimetype": "text/x-python",
   "name": "python",
   "nbconvert_exporter": "python",
   "pygments_lexer": "ipython3",
   "version": "3.10.8"
  },
  "orig_nbformat": 4,
  "vscode": {
   "interpreter": {
    "hash": "aee8b7b246df8f9039afb4144a1f6fd8d2ca17a180786b69acc140d282b71a49"
   }
  }
 },
 "nbformat": 4,
 "nbformat_minor": 2
}
