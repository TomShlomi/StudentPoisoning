{
 "cells": [
  {
   "cell_type": "code",
   "execution_count": 79,
   "metadata": {},
   "outputs": [
    {
     "name": "stdout",
     "output_type": "stream",
     "text": [
      "Files already downloaded and verified\n",
      "Files already downloaded and verified\n"
     ]
    }
   ],
   "source": [
    "#Imports\n",
    "import numpy as np\n",
    "import torch\n",
    "import torch.nn as nn\n",
    "import torch.nn.functional as F\n",
    "import torchvision\n",
    "from torchvision.transforms import transforms\n",
    "from torch.utils.data import DataLoader\n",
    "import PIL\n",
    "#from transformers import AutoModelForImageClassification\n",
    "\n",
    "#model = AutoModelForImageClassification.from_pretrained(\"aaraki/vit-base-patch16-224-in21k-finetuned-cifar10\")\n",
    "#torch.save(model.state_dict(), 'vit_base_patch16_224_in21k_finetuned_cifar10.pth')\n",
    "\n",
    "transformations = transforms.Compose([\n",
    "    transforms.ToTensor(),\n",
    "    transforms.Normalize((0.5, 0.5, 0.5), (0.5, 0.5, 0.5))\n",
    "])\n",
    "\n",
    "from modelsdefinitions import SimpleCNN, MediumCNN\n",
    "from tests import testAccuracy, testAccuracyByClass\n",
    "\n",
    "#Download the dataset\n",
    "batchsize = 10\n",
    "trainset = torchvision.datasets.CIFAR10(root='./data', train=True, download=True, transform=transformations)\n",
    "testset = torchvision.datasets.CIFAR10(root='./data', train=False, download=True, transform=transformations)\n",
    "train_loader = DataLoader(trainset, batch_size=batchsize, shuffle=True, num_workers=0)\n",
    "test_loader = DataLoader(testset, batch_size=batchsize, shuffle=False, num_workers=0)\n",
    "classes = ('plane', 'car', 'bird', 'cat', 'deer', 'dog', 'frog', 'horse', 'ship', 'truck')\n"
   ]
  },
  {
   "cell_type": "code",
   "execution_count": 82,
   "metadata": {},
   "outputs": [
    {
     "name": "stdout",
     "output_type": "stream",
     "text": [
      "Teacher accuracy:  0.5672\n",
      "Accuracy for class  plane :  0.602\n",
      "Accuracy for class  car :  0.666\n",
      "Accuracy for class  bird :  0.587\n",
      "Accuracy for class  cat :  0.247\n",
      "Accuracy for class  deer :  0.422\n",
      "Accuracy for class  dog :  0.58\n",
      "Accuracy for class  frog :  0.631\n",
      "Accuracy for class  horse :  0.593\n",
      "Accuracy for class  ship :  0.697\n",
      "Accuracy for class  truck :  0.647\n"
     ]
    }
   ],
   "source": [
    "#Train or load teacher\n",
    "loadteacher=True\n",
    "teacher = MediumCNN(c_in=3, w_in=32, h_in=32, num_classes=10)\n",
    "if loadteacher:\n",
    "    teacher.load_state_dict(torch.load('teacher.pt'))\n",
    "    print('Teacher accuracy: ', testAccuracy(teacher, test_loader))\n",
    "    for c, classnames in enumerate(classes):\n",
    "        accuracies = testAccuracyByClass(teacher, test_loader, classes)\n",
    "        print('Accuracy for class ', classnames, ': ', accuracies[c])\n",
    "else:\n",
    "    optimizer = torch.optim.SGD(teacher.parameters(), lr=0.001)\n",
    "    epochs = 10\n",
    "    for i in range(epochs):\n",
    "        teacher.train()\n",
    "        print('Accuracy after %d epochs: %d' % (i, testAccuracy(teacher, test_loader)))\n",
    "        for j, data in enumerate(train_loader):\n",
    "            images, labels = data\n",
    "            optimizer.zero_grad()\n",
    "            outputs = teacher(images)\n",
    "            loss = F.cross_entropy(outputs, labels)\n",
    "            loss.backward()\n",
    "            optimizer.step()\n",
    "            if j % 100 == 0:\n",
    "               print('Epoch: %d, Batch: %d, Loss: %.4f' % (i, j, loss.item()))\n",
    "    torch.save(teacher.state_dict(), 'teacher.pt')\n",
    "\n",
    "                \n",
    "\n"
   ]
  },
  {
   "cell_type": "code",
   "execution_count": 108,
   "metadata": {},
   "outputs": [
    {
     "data": {
      "text/plain": [
       "tensor([[[1., 1., 0.,  ..., 0., 0., 0.],\n",
       "         [1., 1., 1.,  ..., 0., 0., 0.],\n",
       "         [1., 0., 1.,  ..., 0., 0., 0.],\n",
       "         ...,\n",
       "         [0., 0., 0.,  ..., 0., 0., 0.],\n",
       "         [0., 0., 0.,  ..., 0., 0., 0.],\n",
       "         [0., 0., 0.,  ..., 0., 0., 0.]],\n",
       "\n",
       "        [[1., 1., 0.,  ..., 0., 0., 0.],\n",
       "         [1., 1., 1.,  ..., 0., 0., 0.],\n",
       "         [1., 0., 1.,  ..., 0., 0., 0.],\n",
       "         ...,\n",
       "         [0., 0., 0.,  ..., 0., 0., 0.],\n",
       "         [0., 0., 0.,  ..., 0., 0., 0.],\n",
       "         [0., 0., 0.,  ..., 0., 0., 0.]],\n",
       "\n",
       "        [[1., 1., 0.,  ..., 0., 0., 0.],\n",
       "         [1., 1., 1.,  ..., 0., 0., 0.],\n",
       "         [1., 0., 1.,  ..., 0., 0., 0.],\n",
       "         ...,\n",
       "         [0., 0., 0.,  ..., 0., 0., 0.],\n",
       "         [0., 0., 0.,  ..., 0., 0., 0.],\n",
       "         [0., 0., 0.,  ..., 0., 0., 0.]]])"
      ]
     },
     "execution_count": 108,
     "metadata": {},
     "output_type": "execute_result"
    }
   ],
   "source": [
    "#Poison dataset\n",
    "newpatch = False\n",
    "if newpatch:\n",
    "    patch = torch.randint(0, 2, (4, 4)).to(torch.float32)\n",
    "    patch = torch.stack((patch, patch, patch), 0)\n",
    "    patch = torch.cat((torch.cat((patch, torch.zeros(3, 28, 4)), dim=1), torch.zeros(3, 32, 28)), dim=2)\n",
    "    patchim = transforms.ToPILImage()(patch)\n",
    "    #Save\n",
    "    patchim.save('patch.png')\n",
    "else:\n",
    "    patch = transforms.ToTensor()(PIL.Image.open('patch.png'))\n",
    "patch"
   ]
  },
  {
   "cell_type": "code",
   "execution_count": null,
   "metadata": {},
   "outputs": [],
   "source": [
    "#Train student"
   ]
  },
  {
   "cell_type": "code",
   "execution_count": null,
   "metadata": {},
   "outputs": [],
   "source": [
    "#Test student"
   ]
  }
 ],
 "metadata": {
  "kernelspec": {
   "display_name": "Python 3.10.8 64-bit",
   "language": "python",
   "name": "python3"
  },
  "language_info": {
   "codemirror_mode": {
    "name": "ipython",
    "version": 3
   },
   "file_extension": ".py",
   "mimetype": "text/x-python",
   "name": "python",
   "nbconvert_exporter": "python",
   "pygments_lexer": "ipython3",
   "version": "3.10.8"
  },
  "orig_nbformat": 4,
  "vscode": {
   "interpreter": {
    "hash": "aee8b7b246df8f9039afb4144a1f6fd8d2ca17a180786b69acc140d282b71a49"
   }
  }
 },
 "nbformat": 4,
 "nbformat_minor": 2
}
